{
  "nbformat": 4,
  "nbformat_minor": 0,
  "metadata": {
    "colab": {
      "provenance": []
    },
    "kernelspec": {
      "name": "python3",
      "display_name": "Python 3"
    },
    "language_info": {
      "name": "python"
    }
  },
  "cells": [
    {
      "cell_type": "code",
      "execution_count": null,
      "metadata": {
        "id": "zax3STF7gtWb"
      },
      "outputs": [],
      "source": []
    },
    {
      "cell_type": "code",
      "source": [
        "import numpy as np\n",
        "\n",
        "# 1. Massiv yaratish\n",
        "array_1d = np.array([1, 2, 3, 4, 5])\n",
        "array_2d = np.array([[1, 2, 3], [4, 5, 6]])\n",
        "\n",
        "# 2. Matematik operatsiyalar\n",
        "sum_array = np.sum(array_1d)\n",
        "mean_array = np.mean(array_1d)\n",
        "product_array = np.prod(array_1d)\n",
        "\n",
        "print(\"1D Massiv: \", array_1d)\n",
        "print(\"2D Massiv:\\n\", array_2d)\n",
        "print(\"Massivlar yig'indisi: \", sum_array)\n",
        "print(\"O'rtacha: \", mean_array)\n",
        "print(\"Ko'paytma: \", product_array)\n"
      ],
      "metadata": {
        "colab": {
          "base_uri": "https://localhost:8080/"
        },
        "id": "gItP-EBihodR",
        "outputId": "b3194f71-7ddd-4903-bd92-246ad5c2de0a"
      },
      "execution_count": 3,
      "outputs": [
        {
          "output_type": "stream",
          "name": "stdout",
          "text": [
            "1D Massiv:  [1 2 3 4 5]\n",
            "2D Massiv:\n",
            " [[1 2 3]\n",
            " [4 5 6]]\n",
            "Massivlar yig'indisi:  15\n",
            "O'rtacha:  3.0\n",
            "Ko'paytma:  120\n"
          ]
        }
      ]
    }
  ]
}